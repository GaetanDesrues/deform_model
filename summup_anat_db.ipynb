{
 "cells": [
  {
   "cell_type": "code",
   "execution_count": 1,
   "outputs": [],
   "source": [
    "import pickle\n",
    "\n",
    "import numpy as np\n",
    "import pandas as pd\n",
    "import treefiles as tf\n",
    "\n",
    "from anat_db.anat_real import get_pa_fe\n",
    "\n",
    "pa, fe = get_pa_fe()"
   ],
   "metadata": {
    "collapsed": false,
    "pycharm": {
     "name": "#%%\n"
    }
   }
  },
  {
   "cell_type": "code",
   "execution_count": 20,
   "outputs": [],
   "source": [
    "import importlib\n",
    "import anat_db.anat_real as aze\n",
    "importlib.reload(aze)\n",
    "from anat_db.anat_real import get_pa_fe, Manager, lambda_x, boxplot"
   ],
   "metadata": {
    "collapsed": false,
    "pycharm": {
     "name": "#%%\n"
    }
   }
  },
  {
   "cell_type": "code",
   "execution_count": 19,
   "outputs": [
    {
     "name": "stdout",
     "output_type": "stream",
     "text": [
      "-----------NoScaler-----------\n",
      "-------------ridge-------------\n",
      "                target      pred         E\n",
      "coef_dilate   7.754354  7.869616  0.013285\n",
      "coef_scale_r  1.096960  1.095241  0.000003\n",
      "coef_scale_z  0.945121  0.943764  0.000002\n",
      "MSE=0.004430067726011744\n",
      "--------------knn--------------\n",
      "                target      pred         E\n",
      "coef_dilate   7.754354  7.949401  0.038043\n",
      "coef_scale_r  1.096960  1.085333  0.000135\n",
      "coef_scale_z  0.945121  0.949889  0.000023\n",
      "MSE=0.012733791815284043\n",
      "--------------nn---------------\n",
      "                target      pred         E\n",
      "coef_dilate   7.754354  7.638504  0.013421\n",
      "coef_scale_r  1.096960  1.142344  0.002060\n",
      "coef_scale_z  0.945121  0.998922  0.002894\n",
      "MSE=0.006125144306912214\n",
      "---------MinMaxScaler---------\n",
      "-------------ridge-------------\n",
      "                 target       pred             E\n",
      "coef_dilate   10.858311  10.127286  5.343975e-01\n",
      "coef_scale_r   1.045882   1.045060  6.758855e-07\n",
      "coef_scale_z   1.031127   1.036720  3.128871e-05\n",
      "MSE=0.17814314445583002\n",
      "--------------knn--------------\n",
      "                 target       pred         E\n",
      "coef_dilate   10.858311  10.574612  0.080485\n",
      "coef_scale_r   1.045882   1.040910  0.000025\n",
      "coef_scale_z   1.031127   1.035370  0.000018\n",
      "MSE=0.02684253740254994\n",
      "--------------nn---------------\n",
      "                 target       pred         E\n",
      "coef_dilate   10.858311  10.848955  0.000088\n",
      "coef_scale_r   1.045882   1.047485  0.000003\n",
      "coef_scale_z   1.031127   1.033393  0.000005\n",
      "MSE=3.1746645843028184e-05\n",
      "--------StandardScaler--------\n",
      "-------------ridge-------------\n",
      "                target      pred             E\n",
      "coef_dilate   9.103119  8.716254  1.496647e-01\n",
      "coef_scale_r  1.072238  1.072587  1.216458e-07\n",
      "coef_scale_z  0.917011  0.918549  2.366277e-06\n",
      "MSE=0.0498890682248048\n",
      "--------------knn--------------\n",
      "                target      pred         E\n",
      "coef_dilate   9.103119  8.934762  0.028344\n",
      "coef_scale_r  1.072238  1.083875  0.000135\n",
      "coef_scale_z  0.917011  0.898316  0.000350\n",
      "MSE=0.009609658734544344\n",
      "--------------nn---------------\n",
      "                target      pred         E\n",
      "coef_dilate   9.103119  9.051644  0.002650\n",
      "coef_scale_r  1.072238  1.003488  0.004727\n",
      "coef_scale_z  0.917011  0.873174  0.001922\n",
      "MSE=0.003099278724208749\n"
     ]
    }
   ],
   "source": [
    "for scaler in Manager.SCALERS.keys():\n",
    "\tprint(f\"{scaler:-^30}\")\n",
    "\tg = Manager(pa, fe, scaler)\n",
    "\tg.print_results_ml()\n",
    "\t# plot_data = g.plot_ml_test_resutls()\n",
    "\t# print(plot_data)"
   ],
   "metadata": {
    "collapsed": false,
    "pycharm": {
     "name": "#%%\n"
    }
   }
  },
  {
   "cell_type": "code",
   "execution_count": null,
   "outputs": [],
   "source": [
    "g = Manager(pa, fe, Manager.NOSCALER)\n",
    "plot_data = g.plot_ml_test_resutls()"
   ],
   "metadata": {
    "collapsed": false,
    "pycharm": {
     "name": "#%%\n"
    }
   }
  },
  {
   "cell_type": "code",
   "execution_count": 25,
   "outputs": [
    {
     "data": {
      "text/plain": "<Figure size 432x288 with 1 Axes>",
      "image/png": "[encoded data removed]"
     },
     "metadata": {
      "needs_background": "light"
     },
     "output_type": "display_data"
    },
    {
     "ename": "ValueError",
     "evalue": "X must have 2 or fewer dimensions",
     "output_type": "error",
     "traceback": [
      "\u001B[0;31m---------------------------------------------------------------------------\u001B[0m",
      "\u001B[0;31mValueError\u001B[0m                                Traceback (most recent call last)",
      "\u001B[0;32m/tmp/ipykernel_187894/3447434254.py\u001B[0m in \u001B[0;36m<module>\u001B[0;34m\u001B[0m\n\u001B[1;32m      3\u001B[0m \u001B[0mimportlib\u001B[0m\u001B[0;34m.\u001B[0m\u001B[0mreload\u001B[0m\u001B[0;34m(\u001B[0m\u001B[0maze\u001B[0m\u001B[0;34m)\u001B[0m\u001B[0;34m\u001B[0m\u001B[0;34m\u001B[0m\u001B[0m\n\u001B[1;32m      4\u001B[0m \u001B[0;32mfrom\u001B[0m \u001B[0manat_db\u001B[0m\u001B[0;34m.\u001B[0m\u001B[0manat_real\u001B[0m \u001B[0;32mimport\u001B[0m \u001B[0mget_pa_fe\u001B[0m\u001B[0;34m,\u001B[0m \u001B[0mManager\u001B[0m\u001B[0;34m,\u001B[0m \u001B[0mlambda_x\u001B[0m\u001B[0;34m,\u001B[0m \u001B[0mboxplot\u001B[0m\u001B[0;34m\u001B[0m\u001B[0;34m\u001B[0m\u001B[0m\n\u001B[0;32m----> 5\u001B[0;31m \u001B[0mboxplot\u001B[0m\u001B[0;34m(\u001B[0m\u001B[0mplot_data\u001B[0m\u001B[0;34m)\u001B[0m\u001B[0;34m\u001B[0m\u001B[0;34m\u001B[0m\u001B[0m\n\u001B[0m",
      "\u001B[0;32m~/Documents/dev/JaGaMeca/anat_db/anat_real.py\u001B[0m in \u001B[0;36mboxplot\u001B[0;34m(data)\u001B[0m\n\u001B[1;32m    316\u001B[0m         \u001B[0mtf\u001B[0m\u001B[0;34m.\u001B[0m\u001B[0mdespine\u001B[0m\u001B[0;34m(\u001B[0m\u001B[0mfig\u001B[0m\u001B[0;34m)\u001B[0m\u001B[0;34m\u001B[0m\u001B[0;34m\u001B[0m\u001B[0m\n\u001B[1;32m    317\u001B[0m         \u001B[0;31m# for i,(k,v) in enumerate(data.items()):\u001B[0m\u001B[0;34m\u001B[0m\u001B[0;34m\u001B[0m\u001B[0m\n\u001B[0;32m--> 318\u001B[0;31m         \u001B[0max\u001B[0m\u001B[0;34m.\u001B[0m\u001B[0mboxplot\u001B[0m\u001B[0;34m(\u001B[0m\u001B[0mdata\u001B[0m\u001B[0;34m.\u001B[0m\u001B[0mvalues\u001B[0m\u001B[0;34m(\u001B[0m\u001B[0;34m)\u001B[0m\u001B[0;34m,\u001B[0m \u001B[0mpositions\u001B[0m\u001B[0;34m=\u001B[0m\u001B[0mrange\u001B[0m\u001B[0;34m(\u001B[0m\u001B[0mlen\u001B[0m\u001B[0;34m(\u001B[0m\u001B[0mdata\u001B[0m\u001B[0;34m)\u001B[0m\u001B[0;34m)\u001B[0m\u001B[0;34m)\u001B[0m\u001B[0;34m\u001B[0m\u001B[0;34m\u001B[0m\u001B[0m\n\u001B[0m\u001B[1;32m    319\u001B[0m         \u001B[0mfig\u001B[0m\u001B[0;34m.\u001B[0m\u001B[0mtight_layout\u001B[0m\u001B[0;34m(\u001B[0m\u001B[0;34m)\u001B[0m\u001B[0;34m\u001B[0m\u001B[0;34m\u001B[0m\u001B[0m\n\u001B[1;32m    320\u001B[0m \u001B[0;34m\u001B[0m\u001B[0m\n",
      "\u001B[0;32m~/Documents/dev/ElecModel/venv/lib64/python3.9/site-packages/matplotlib/__init__.py\u001B[0m in \u001B[0;36minner\u001B[0;34m(ax, data, *args, **kwargs)\u001B[0m\n\u001B[1;32m   1359\u001B[0m     \u001B[0;32mdef\u001B[0m \u001B[0minner\u001B[0m\u001B[0;34m(\u001B[0m\u001B[0max\u001B[0m\u001B[0;34m,\u001B[0m \u001B[0;34m*\u001B[0m\u001B[0margs\u001B[0m\u001B[0;34m,\u001B[0m \u001B[0mdata\u001B[0m\u001B[0;34m=\u001B[0m\u001B[0;32mNone\u001B[0m\u001B[0;34m,\u001B[0m \u001B[0;34m**\u001B[0m\u001B[0mkwargs\u001B[0m\u001B[0;34m)\u001B[0m\u001B[0;34m:\u001B[0m\u001B[0;34m\u001B[0m\u001B[0;34m\u001B[0m\u001B[0m\n\u001B[1;32m   1360\u001B[0m         \u001B[0;32mif\u001B[0m \u001B[0mdata\u001B[0m \u001B[0;32mis\u001B[0m \u001B[0;32mNone\u001B[0m\u001B[0;34m:\u001B[0m\u001B[0;34m\u001B[0m\u001B[0;34m\u001B[0m\u001B[0m\n\u001B[0;32m-> 1361\u001B[0;31m             \u001B[0;32mreturn\u001B[0m \u001B[0mfunc\u001B[0m\u001B[0;34m(\u001B[0m\u001B[0max\u001B[0m\u001B[0;34m,\u001B[0m \u001B[0;34m*\u001B[0m\u001B[0mmap\u001B[0m\u001B[0;34m(\u001B[0m\u001B[0msanitize_sequence\u001B[0m\u001B[0;34m,\u001B[0m \u001B[0margs\u001B[0m\u001B[0;34m)\u001B[0m\u001B[0;34m,\u001B[0m \u001B[0;34m**\u001B[0m\u001B[0mkwargs\u001B[0m\u001B[0;34m)\u001B[0m\u001B[0;34m\u001B[0m\u001B[0;34m\u001B[0m\u001B[0m\n\u001B[0m\u001B[1;32m   1362\u001B[0m \u001B[0;34m\u001B[0m\u001B[0m\n\u001B[1;32m   1363\u001B[0m         \u001B[0mbound\u001B[0m \u001B[0;34m=\u001B[0m \u001B[0mnew_sig\u001B[0m\u001B[0;34m.\u001B[0m\u001B[0mbind\u001B[0m\u001B[0;34m(\u001B[0m\u001B[0max\u001B[0m\u001B[0;34m,\u001B[0m \u001B[0;34m*\u001B[0m\u001B[0margs\u001B[0m\u001B[0;34m,\u001B[0m \u001B[0;34m**\u001B[0m\u001B[0mkwargs\u001B[0m\u001B[0;34m)\u001B[0m\u001B[0;34m\u001B[0m\u001B[0;34m\u001B[0m\u001B[0m\n",
      "\u001B[0;32m~/Documents/dev/ElecModel/venv/lib64/python3.9/site-packages/matplotlib/axes/_axes.py\u001B[0m in \u001B[0;36mboxplot\u001B[0;34m(self, x, notch, sym, vert, whis, positions, widths, patch_artist, bootstrap, usermedians, conf_intervals, meanline, showmeans, showcaps, showbox, showfliers, boxprops, labels, flierprops, medianprops, meanprops, capprops, whiskerprops, manage_ticks, autorange, zorder)\u001B[0m\n\u001B[1;32m   3743\u001B[0m             \u001B[0mbootstrap\u001B[0m \u001B[0;34m=\u001B[0m \u001B[0mrcParams\u001B[0m\u001B[0;34m[\u001B[0m\u001B[0;34m'boxplot.bootstrap'\u001B[0m\u001B[0;34m]\u001B[0m\u001B[0;34m\u001B[0m\u001B[0;34m\u001B[0m\u001B[0m\n\u001B[1;32m   3744\u001B[0m \u001B[0;34m\u001B[0m\u001B[0m\n\u001B[0;32m-> 3745\u001B[0;31m         bxpstats = cbook.boxplot_stats(x, whis=whis, bootstrap=bootstrap,\n\u001B[0m\u001B[1;32m   3746\u001B[0m                                        labels=labels, autorange=autorange)\n\u001B[1;32m   3747\u001B[0m         \u001B[0;32mif\u001B[0m \u001B[0mnotch\u001B[0m \u001B[0;32mis\u001B[0m \u001B[0;32mNone\u001B[0m\u001B[0;34m:\u001B[0m\u001B[0;34m\u001B[0m\u001B[0;34m\u001B[0m\u001B[0m\n",
      "\u001B[0;32m~/Documents/dev/ElecModel/venv/lib64/python3.9/site-packages/matplotlib/cbook/__init__.py\u001B[0m in \u001B[0;36mboxplot_stats\u001B[0;34m(X, whis, bootstrap, labels, autorange)\u001B[0m\n\u001B[1;32m   1188\u001B[0m \u001B[0;34m\u001B[0m\u001B[0m\n\u001B[1;32m   1189\u001B[0m     \u001B[0;31m# convert X to a list of lists\u001B[0m\u001B[0;34m\u001B[0m\u001B[0;34m\u001B[0m\u001B[0m\n\u001B[0;32m-> 1190\u001B[0;31m     \u001B[0mX\u001B[0m \u001B[0;34m=\u001B[0m \u001B[0m_reshape_2D\u001B[0m\u001B[0;34m(\u001B[0m\u001B[0mX\u001B[0m\u001B[0;34m,\u001B[0m \u001B[0;34m\"X\"\u001B[0m\u001B[0;34m)\u001B[0m\u001B[0;34m\u001B[0m\u001B[0;34m\u001B[0m\u001B[0m\n\u001B[0m\u001B[1;32m   1191\u001B[0m \u001B[0;34m\u001B[0m\u001B[0m\n\u001B[1;32m   1192\u001B[0m     \u001B[0mncols\u001B[0m \u001B[0;34m=\u001B[0m \u001B[0mlen\u001B[0m\u001B[0;34m(\u001B[0m\u001B[0mX\u001B[0m\u001B[0;34m)\u001B[0m\u001B[0;34m\u001B[0m\u001B[0;34m\u001B[0m\u001B[0m\n",
      "\u001B[0;32m~/Documents/dev/ElecModel/venv/lib64/python3.9/site-packages/matplotlib/cbook/__init__.py\u001B[0m in \u001B[0;36m_reshape_2D\u001B[0;34m(X, name)\u001B[0m\n\u001B[1;32m   1431\u001B[0m         \u001B[0mnd\u001B[0m \u001B[0;34m=\u001B[0m \u001B[0mnp\u001B[0m\u001B[0;34m.\u001B[0m\u001B[0mndim\u001B[0m\u001B[0;34m(\u001B[0m\u001B[0mxi\u001B[0m\u001B[0;34m)\u001B[0m\u001B[0;34m\u001B[0m\u001B[0;34m\u001B[0m\u001B[0m\n\u001B[1;32m   1432\u001B[0m         \u001B[0;32mif\u001B[0m \u001B[0mnd\u001B[0m \u001B[0;34m>\u001B[0m \u001B[0;36m1\u001B[0m\u001B[0;34m:\u001B[0m\u001B[0;34m\u001B[0m\u001B[0;34m\u001B[0m\u001B[0m\n\u001B[0;32m-> 1433\u001B[0;31m             \u001B[0;32mraise\u001B[0m \u001B[0mValueError\u001B[0m\u001B[0;34m(\u001B[0m\u001B[0;34mf'{name} must have 2 or fewer dimensions'\u001B[0m\u001B[0;34m)\u001B[0m\u001B[0;34m\u001B[0m\u001B[0;34m\u001B[0m\u001B[0m\n\u001B[0m\u001B[1;32m   1434\u001B[0m         \u001B[0mresult\u001B[0m\u001B[0;34m.\u001B[0m\u001B[0mappend\u001B[0m\u001B[0;34m(\u001B[0m\u001B[0mxi\u001B[0m\u001B[0;34m.\u001B[0m\u001B[0mreshape\u001B[0m\u001B[0;34m(\u001B[0m\u001B[0;34m-\u001B[0m\u001B[0;36m1\u001B[0m\u001B[0;34m)\u001B[0m\u001B[0;34m)\u001B[0m\u001B[0;34m\u001B[0m\u001B[0;34m\u001B[0m\u001B[0m\n\u001B[1;32m   1435\u001B[0m \u001B[0;34m\u001B[0m\u001B[0m\n",
      "\u001B[0;31mValueError\u001B[0m: X must have 2 or fewer dimensions"
     ]
    }
   ],
   "source": [
    "boxplot(plot_data)"
   ],
   "metadata": {
    "collapsed": false,
    "pycharm": {
     "name": "#%%\n"
    }
   }
  }
 ],
 "metadata": {
  "kernelspec": {
   "display_name": "Python 3",
   "language": "python",
   "name": "python3"
  },
  "language_info": {
   "codemirror_mode": {
    "name": "ipython",
    "version": 2
   },
   "file_extension": ".py",
   "mimetype": "text/x-python",
   "name": "python",
   "nbconvert_exporter": "python",
   "pygments_lexer": "ipython2",
   "version": "2.7.6"
  }
 },
 "nbformat": 4,
 "nbformat_minor": 0
}